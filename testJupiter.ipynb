{
 "cells": [
  {
   "cell_type": "code",
   "execution_count": 2,
   "metadata": {},
   "outputs": [
    {
     "name": "stdout",
     "output_type": "stream",
     "text": [
      "[(515005.66, 8548815.07), (515158.057, 8550260.322), (516609.103, 8550227.221), (515898.467, 8551997.043), (515701.684, 8554089.745), (515714.942, 8556337.476), (514497.785, 8558413.814), (513418.464, 8558057.341), (512172.777, 8559795.188), (511291.699, 8560841.977), (511017.436, 8562351.549), (513206.649, 8552899.219), (513516.089, 8549363.513), (514278.737, 8559859.578), (513575.999, 8555493.386), (512811.92, 8550930.292)]\n",
      "[(0.05241342484592825, -0.07067863398654892), (0.0237786701072123, -0.03480272805246654), (-0.009065168745465105, -0.02685063239228772), (-0.00968183932268133, -0.05136688518601383), (0.01894520581973556, -0.052491248291091114), (0.022932452683681336, -0.010935536555846635), (0.009064308667828543, -0.0913966295987045), (0.046308491360673644, -0.07843209076482172), (-0.0976733339419591, -0.06931459833182761), (-0.04047191415926704, 0.0164020148655092), (-1.0105355063479795, 1.0479974620509909), (0.05423364311759326, -0.004251106368629274), (0.08735801555971358, 0.10857229987203307), (0.014860197427360843, 0.01871884993143881), (0.046187712712616916, 0.012401328771009518), (0.07525488941613208, 0.013797423948937213)]\n"
     ]
    }
   ],
   "source": [
    "stickPositions, grad = [], []\n",
    "sumaVel = []\n",
    "\n",
    "# Collects firsts positions\n",
    "with open('gradients/gradient_in_stick.dat', 'r') as stickPosAndGradient:\n",
    "    for line in stickPosAndGradient.readlines():\n",
    "        line = line.split()\n",
    "        sumaVel.append(0.0)\n",
    "        stickPositions.append((float(line[0]), float(line[1])))\n",
    "        grad.append((float(line[len(line)-2]), float(line[len(line)-1])))\n",
    "print(stickPositions)\n",
    "print(grad)"
   ]
  },
  {
   "cell_type": "code",
   "execution_count": 12,
   "metadata": {},
   "outputs": [
    {
     "name": "stdout",
     "output_type": "stream",
     "text": [
      "[2.6675954606549377, 49.91040492991553, 658.5099660666282, 401.91978150921665, 236.42568445660515, 186.82370467789943, 123.24316977246548, 88.77883761520738, 105.89620966781881, 59.97436092069895, 10.439008174923199, 5.544559989439328, 37.19998078437023, 34.058164525729666, 41.10966830837175, 68.34193357814904]\n",
      "[0.24250867824135797, 0.7029634497171201, 9.14597175092539, 5.582219187628009, 3.283690061897294, 2.5947736760819367, 1.7117106912842428, 1.2330394113223246, 1.4914959108143495, 0.8329772350097077, 0.1449862246517111, 0.1008101816261696, 0.51666639978292, 0.5239717619343025, 0.5872809758338822, 1.139032226302484]\n"
     ]
    }
   ],
   "source": [
    "import numpy as np\n",
    "\n",
    "with open('datafiles/vel_darek_mensuales_30.4375_normalized.dat', 'r') as velMensuales:\n",
    "    velValues = np.loadtxt(velMensuales)\n",
    "    months = len(velValues)\n",
    "    averageSpeed = [0.0 for i in range(0, len(velValues[0]))]\n",
    "    dataNaN = [0 for i in range(0, len(velValues[0]))]\n",
    "    for i, row in enumerate(velValues):\n",
    "        for j, vel in enumerate(row):\n",
    "            if (np.isnan(vel)):\n",
    "                dataNaN[j] += 1\n",
    "                continue\n",
    "            averageSpeed[j] += vel\n",
    "    print(averageSpeed)\n",
    "    for k, vel in enumerate(averageSpeed):\n",
    "        averageSpeed[k] = vel/(months - dataNaN[k])\n",
    "    print(averageSpeed)"
   ]
  }
 ],
 "metadata": {
  "kernelspec": {
   "display_name": "Python 3",
   "language": "python",
   "name": "python3"
  },
  "language_info": {
   "codemirror_mode": {
    "name": "ipython",
    "version": 3
   },
   "file_extension": ".py",
   "mimetype": "text/x-python",
   "name": "python",
   "nbconvert_exporter": "python",
   "pygments_lexer": "ipython3",
   "version": "3.11.1"
  },
  "orig_nbformat": 4,
  "vscode": {
   "interpreter": {
    "hash": "5238573367df39f7286bb46f9ff5f08f63a01a80960060ce41e3c79b190280fa"
   }
  }
 },
 "nbformat": 4,
 "nbformat_minor": 2
}
